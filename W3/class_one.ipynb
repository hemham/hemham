{
  "nbformat": 4,
  "nbformat_minor": 0,
  "metadata": {
    "colab": {
      "provenance": [],
      "authorship_tag": "ABX9TyNFlj5GP/IlZ/oWM+mjqYeD",
      "include_colab_link": true
    },
    "kernelspec": {
      "name": "python3",
      "display_name": "Python 3"
    },
    "language_info": {
      "name": "python"
    }
  },
  "cells": [
    {
      "cell_type": "markdown",
      "metadata": {
        "id": "view-in-github",
        "colab_type": "text"
      },
      "source": [
        "<a href=\"https://colab.research.google.com/github/hemham/hemham/blob/main/W3/class_one.ipynb\" target=\"_parent\"><img src=\"https://colab.research.google.com/assets/colab-badge.svg\" alt=\"Open In Colab\"/></a>"
      ]
    },
    {
      "cell_type": "code",
      "execution_count": null,
      "metadata": {
        "colab": {
          "base_uri": "https://localhost:8080/"
        },
        "id": "DHuxKdxKtRxF",
        "outputId": "97251481-f55b-4f55-b934-f00f66e50826"
      },
      "outputs": [
        {
          "output_type": "stream",
          "name": "stdout",
          "text": [
            "첫 번째 정수를 입력하시오: \n",
            "1\n",
            "두 번째 정수를 입력하시오: \n",
            "2\n",
            "바꾸기 전:  1 2\n",
            "바꾼 후:  2 1\n"
          ]
        }
      ],
      "source": [
        "#1 두개의 정수를\n",
        "print(\"첫 번째 정수를 입력하시오: \")\n",
        "a=int(input())\n",
        "print(\"두 번째 정수를 입력하시오: \")\n",
        "b=int(input())\n",
        "print(\"바꾸기 전: \",a,b)\n",
        "c=a\n",
        "\n",
        "a=b\n",
        "b=c\n",
        "print(\"바꾼 후: \",a,b)"
      ]
    },
    {
      "cell_type": "code",
      "source": [
        "#2 3자리 정수를 입력받은 후, 각 자리수 별로출력하기\n",
        "\n",
        "print(\"세자리 정수를 입력하시오: \")\n",
        "n=int(input())\n",
        "print(\"100의 자리수: \",n//100,)\n",
        "print(\"10의 자리수: \",n//10%10,)\n",
        "print(\"1의 자리수: \",n%10)\n",
        "\n",
        "\n"
      ],
      "metadata": {
        "colab": {
          "base_uri": "https://localhost:8080/"
        },
        "id": "odIfa8b4to2G",
        "outputId": "bdd49232-bd9d-4658-e4b6-337538f5f891"
      },
      "execution_count": null,
      "outputs": [
        {
          "output_type": "stream",
          "name": "stdout",
          "text": [
            "세자리 정수를 입력하시오: \n",
            "321\n",
            "100의 자리수:  3\n",
            "10의 자리수:  2\n",
            "1의 자리수:  1\n"
          ]
        }
      ]
    }
  ]
}